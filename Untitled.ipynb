{
 "cells": [
  {
   "cell_type": "code",
   "execution_count": 8,
   "metadata": {
    "collapsed": true
   },
   "outputs": [],
   "source": [
    "# Import statements\n",
    "import psycopg2\n",
    "import csv\n",
    "\n",
    "# # Write code / functions to set up database connection and cursor here.\n",
    "# conn = psycopg2.connect(\"dbname='test_db' user='ethanellert'\")\n",
    "# cur = conn.cursor()\n",
    "\n",
    "# if conn:\n",
    "#     print(\"Successfully Connected to the Database!\")\n",
    "\n",
    "# # Write code / functions to create tables with the columns you want and all database setup here.\n",
    "# def create_tables():\n",
    "#     cur.execute(\"DROP TABLE IF EXISTS Sites\")\n",
    "#     cur.execute(\"DROP TABLE IF EXISTS States\")\n",
    "#     commands = (\n",
    "#         \"\"\"\n",
    "#         CREATE TABLE States (\n",
    "#             ID SERIAL PRIMARY KEY,\n",
    "#             Name VARCHAR(128) UNIQUE\n",
    "#         )\n",
    "#         \"\"\",\n",
    "#         \"\"\"\n",
    "#         CREATE TABLE Sites (\n",
    "#             ID SERIAL,\n",
    "#             Title VARCHAR(128) UNIQUE,\n",
    "#             Type VARCHAR(128),\n",
    "#             State_ID INTEGER REFERENCES States(ID),\n",
    "#             Location VARCHAR(255),\n",
    "#             Description TEXT\n",
    "#         )\n",
    "#         \"\"\"\n",
    "#     )\n",
    "#     for command in commands:\n",
    "#         cur.execute(command)\n",
    "\n",
    "\n",
    "# create_tables()\n",
    "\n",
    "# Write code / functions to deal with CSV files and insert data into the database here.\n",
    "\n",
    "with open('arkansas.csv', 'r') as f:\n",
    "    arkansas = f.readlines()\n",
    "\n",
    "with open('california.csv', 'r') as f:\n",
    "    california = f.readlines()\n",
    "\n",
    "with open('michigan.csv', 'r') as f:\n",
    "    michigan = f.readlines()\n",
    "\n",
    "# cur.execute(\"INSERT INTO States (Name) VALUES ('Arkansas')\")\n",
    "# cur.execute(\"INSERT INTO States (Name) VALUES ('California')\")\n",
    "# cur.execute(\"INSERT INTO States (Name) VALUES ('Michigan')\")\n",
    "# conn.commit()\n",
    "\n",
    "# def insert_site(text):\n",
    "#     for line in text:\n",
    "#         cur.execute(\"INSERT INTO Sites (Name, Type, State_ID, Location, Description) \\\n",
    "#                      VALUES ()\")\n",
    "\n",
    "# Make sure to commit your database changes with .commit() on the database connection.\n",
    "\n",
    "\n",
    "\n",
    "# Write code to be invoked here (e.g. invoking any functions you wrote above)\n",
    "\n",
    "\n",
    "\n",
    "# Write code to make queries and save data in variables here.\n",
    "\n",
    "\n",
    "\n",
    "# We have not provided any tests, but you could write your own in this file or another file, if you want.\n"
   ]
  },
  {
   "cell_type": "code",
   "execution_count": 13,
   "metadata": {},
   "outputs": [
    {
     "name": "stdout",
     "output_type": "stream",
     "text": [
      "800 East Lakeshore Drive / Houghton / MI / 49931\n",
      "25970 Red Jacket Road / Calumet / MI / 49913\n",
      "200 Renaissance Center, Suite 3148 / Detroit / MI / 48243\n",
      "219 E. Main Street / Lowell / MI / 49331\n",
      "N8391 Sand Point Road / Munising / MI / 49862\n",
      "1403 East Elm Street / Monroe / MI / 48162\n",
      "9922 Front Street / Empire / MI / 49630\n"
     ]
    }
   ],
   "source": [
    "with open('michigan.csv', 'r') as f:\n",
    "    reader = csv.reader(f)\n",
    "    next(reader)  # Skip the header row.\n",
    "    for row in reader:\n",
    "        print row[3]"
   ]
  },
  {
   "cell_type": "code",
   "execution_count": null,
   "metadata": {
    "collapsed": true
   },
   "outputs": [],
   "source": []
  }
 ],
 "metadata": {
  "kernelspec": {
   "display_name": "Python 2",
   "language": "python",
   "name": "python2"
  },
  "language_info": {
   "codemirror_mode": {
    "name": "ipython",
    "version": 2
   },
   "file_extension": ".py",
   "mimetype": "text/x-python",
   "name": "python",
   "nbconvert_exporter": "python",
   "pygments_lexer": "ipython2",
   "version": "2.7.13"
  }
 },
 "nbformat": 4,
 "nbformat_minor": 2
}
